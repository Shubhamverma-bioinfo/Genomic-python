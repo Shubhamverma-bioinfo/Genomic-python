{
 "cells": [
  {
   "cell_type": "markdown",
   "metadata": {},
   "source": [
    "# Functions"
   ]
  },
  {
   "cell_type": "code",
   "execution_count": 19,
   "metadata": {},
   "outputs": [],
   "source": [
    "#it take a list of argument values ,performs a computation with those values and return a single result\n",
    "def gc(dna):\n",
    "    \"this finction computes the gc % of a dna sequence\"\n",
    "    nbases=dna.count('n')+dna.count('N')\n",
    "    gcbases=dna.count('g')+dna.count('c')+dna.count('G')+dna.count('C')\n",
    "    gc_per=gcbases*100/(len(dna)-nbases)\n",
    "    return print('gc percentage in the dna seq is %5.2f ' %gc_per)\n",
    "    "
   ]
  },
  {
   "cell_type": "code",
   "execution_count": 20,
   "metadata": {},
   "outputs": [
    {
     "name": "stdout",
     "output_type": "stream",
     "text": [
      "cgatgcgatcgagtnagtcn\n",
      "gc percentage in the dna seq is 55.56 \n"
     ]
    }
   ],
   "source": [
    "dna=input()\n",
    "gc(dna)  \n",
    "# scope of variable is local variable which is with the function like nbases can't be execute outside\n",
    "# >>> print(nbases) gives error"
   ]
  },
  {
   "cell_type": "code",
   "execution_count": 1,
   "metadata": {},
   "outputs": [],
   "source": [
    "# to find stop codon ['TAG','TGA','TAA']\n",
    "def stop_codon_find(dna):\n",
    "    dna=dna.upper()\n",
    "    for i in range(0,len(dna),3):\n",
    "        codon=dna[i:i+3]\n",
    "        if codon in ['TAG','TGA','TAA']:\n",
    "            break\n",
    "    return print('dna seq has stop codon %s' %codon)"
   ]
  },
  {
   "cell_type": "code",
   "execution_count": 3,
   "metadata": {},
   "outputs": [
    {
     "name": "stdout",
     "output_type": "stream",
     "text": [
      "GTAGATTGA\n",
      "dna seq has stop codon TGA\n"
     ]
    }
   ],
   "source": [
    "dna=input()\n",
    "stop_codon_find(dna)"
   ]
  },
  {
   "cell_type": "code",
   "execution_count": 43,
   "metadata": {},
   "outputs": [
    {
     "name": "stdout",
     "output_type": "stream",
     "text": [
      "dna seq has stop codon TGA\n"
     ]
    }
   ],
   "source": [
    "# passing argument by position\n",
    "seq='tgacgatag'\n",
    "stop_codon_find(seq,1) # check it"
   ]
  },
  {
   "cell_type": "code",
   "execution_count": 71,
   "metadata": {},
   "outputs": [],
   "source": [
    "# W.A.P to reverse a dna sequence\n",
    "def reverse_string(dna):\n",
    "    return dna[::-1]"
   ]
  },
  {
   "cell_type": "code",
   "execution_count": 72,
   "metadata": {},
   "outputs": [
    {
     "name": "stdout",
     "output_type": "stream",
     "text": [
      "actagtatcgc\n"
     ]
    },
    {
     "data": {
      "text/plain": [
       "'cgctatgatca'"
      ]
     },
     "execution_count": 72,
     "metadata": {},
     "output_type": "execute_result"
    }
   ],
   "source": [
    "dna=input()\n",
    "reverse_string(dna)"
   ]
  },
  {
   "cell_type": "code",
   "execution_count": 83,
   "metadata": {},
   "outputs": [],
   "source": [
    "def rev(s):\n",
    "    str=''\n",
    "    for i in s:\n",
    "        str=i+str\n",
    "    return str"
   ]
  },
  {
   "cell_type": "code",
   "execution_count": 84,
   "metadata": {},
   "outputs": [
    {
     "data": {
      "text/plain": [
       "'tdhdgf'"
      ]
     },
     "execution_count": 84,
     "metadata": {},
     "output_type": "execute_result"
    }
   ],
   "source": [
    "rev('fgdhdt')"
   ]
  },
  {
   "cell_type": "code",
   "execution_count": 123,
   "metadata": {},
   "outputs": [],
   "source": [
    "# W.A.P to write reverse-complement of dna seq\n",
    "def complement(seq):\n",
    "    seq=seq.upper()\n",
    "    tab=seq.maketrans('ATGC','TACG')\n",
    "    com=seq.translate(tab)\n",
    "    return com[::-1]    \n",
    "            \n",
    "            "
   ]
  },
  {
   "cell_type": "code",
   "execution_count": 124,
   "metadata": {},
   "outputs": [
    {
     "data": {
      "text/plain": [
       "'ACGCATC'"
      ]
     },
     "execution_count": 124,
     "metadata": {},
     "output_type": "execute_result"
    }
   ],
   "source": [
    "complement('tgcgtag')"
   ]
  },
  {
   "cell_type": "code",
   "execution_count": 127,
   "metadata": {},
   "outputs": [],
   "source": [
    "def complement2(dna):\n",
    "    basecomplement={'A':'T','C':'G','G':'C','T':'A','N':'N','a':'t','c':'g','g':'c','t':'a','n':'n'}\n",
    "    letters=list(dna)\n",
    "    letters=(basecomplement[base] for base in letters)\n",
    "    return ''.join(letters)\n",
    "    "
   ]
  },
  {
   "cell_type": "code",
   "execution_count": 128,
   "metadata": {},
   "outputs": [
    {
     "data": {
      "text/plain": [
       "'gctactgac'"
      ]
     },
     "execution_count": 128,
     "metadata": {},
     "output_type": "execute_result"
    }
   ],
   "source": [
    "complement2('gtcagtagc')"
   ]
  },
  {
   "cell_type": "code",
   "execution_count": 120,
   "metadata": {},
   "outputs": [
    {
     "data": {
      "text/plain": [
       "'AGTA'"
      ]
     },
     "execution_count": 120,
     "metadata": {},
     "output_type": "execute_result"
    }
   ],
   "source": [
    "tab=seq.maketrans('ATGC','TACG')\n",
    "seq.translate(tab)[::-1]"
   ]
  },
  {
   "cell_type": "markdown",
   "metadata": {},
   "source": [
    "# split and join "
   ]
  },
  {
   "cell_type": "code",
   "execution_count": 129,
   "metadata": {},
   "outputs": [
    {
     "data": {
      "text/plain": [
       "['enzyme', 'and', 'other', 'protein', 'come', 'in', 'many', 'steps']"
      ]
     },
     "execution_count": 129,
     "metadata": {},
     "output_type": "execute_result"
    }
   ],
   "source": [
    "sentence='enzyme and other protein come in many steps'\n",
    "sentence.split()"
   ]
  },
  {
   "cell_type": "code",
   "execution_count": 130,
   "metadata": {},
   "outputs": [
    {
     "data": {
      "text/plain": [
       "'enzyme-and-other-protein-come-in-many-steps'"
      ]
     },
     "execution_count": 130,
     "metadata": {},
     "output_type": "execute_result"
    }
   ],
   "source": [
    "'-'.join(['enzyme', 'and', 'other', 'protein', 'come', 'in', 'many', 'steps'])"
   ]
  },
  {
   "cell_type": "markdown",
   "metadata": {},
   "source": [
    "# Modules and packages\n"
   ]
  },
  {
   "cell_type": "code",
   "execution_count": 134,
   "metadata": {},
   "outputs": [
    {
     "name": "stdout",
     "output_type": "stream",
     "text": [
      "gc percentage in the dna seq is 57.89 \n"
     ]
    }
   ],
   "source": [
    "# put all function in a file which is called as module. simply python files with the .py extension which contain definition \n",
    "# .. of function or variable usually related to specific theme.\n",
    "\n",
    "# if you made a file with .py store function in them then i.e dnautil.py\n",
    "import dnautil\n",
    "dna = 'atgcgtagcgtagcgcgta'\n",
    "dnautil.gc(dna)"
   ]
  },
  {
   "cell_type": "code",
   "execution_count": 135,
   "metadata": {},
   "outputs": [
    {
     "name": "stdout",
     "output_type": "stream",
     "text": [
      "dna seq has stop codon TAG\n"
     ]
    }
   ],
   "source": [
    "from dnautil import *   # you can use all function in this module\n",
    "dna = 'agtgcgtagtgatgactaa'\n",
    "stop_codon_find(dna)\n"
   ]
  },
  {
   "cell_type": "code",
   "execution_count": 137,
   "metadata": {},
   "outputs": [
    {
     "data": {
      "text/plain": [
       "'\\\\i.e bioseq/ \\n                _init_.py\\n                dnautil.py\\n                rnautil.py\\n                fasta/\\n                _init_.py\\n                fastautil.py\\n'"
      ]
     },
     "execution_count": 137,
     "metadata": {},
     "output_type": "execute_result"
    }
   ],
   "source": [
    "# PACKAGE \n",
    "# - group of modules together into a larger collection\n",
    "# - all packages contain _init_.py files(empty) it indicates the directory to which this pyhton package allocated\n",
    "\"\"\"i.e bioseq/ \n",
    "                _init_.py\n",
    "                dnautil.py\n",
    "                rnautil.py\n",
    "                fasta/\n",
    "                _init_.py\n",
    "                fastautil.py\n",
    "\"\"\"\n",
    "# from bioseq import rnautil.py"
   ]
  },
  {
   "cell_type": "code",
   "execution_count": null,
   "metadata": {},
   "outputs": [],
   "source": []
  }
 ],
 "metadata": {
  "kernelspec": {
   "display_name": "Python 3",
   "language": "python",
   "name": "python3"
  },
  "language_info": {
   "codemirror_mode": {
    "name": "ipython",
    "version": 3
   },
   "file_extension": ".py",
   "mimetype": "text/x-python",
   "name": "python",
   "nbconvert_exporter": "python",
   "pygments_lexer": "ipython3",
   "version": "3.7.4"
  }
 },
 "nbformat": 4,
 "nbformat_minor": 2
}
